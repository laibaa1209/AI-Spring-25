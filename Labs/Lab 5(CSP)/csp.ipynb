{
 "cells": [
  {
   "cell_type": "code",
   "execution_count": 1,
   "id": "77283173",
   "metadata": {},
   "outputs": [
    {
     "name": "stdout",
     "output_type": "stream",
     "text": [
      "load C:\\Users\\ziya\\AppData\\Roaming\\Python\\Python312\\site-packages\\ortools\\.libs\\zlib1.dll...\n",
      "load C:\\Users\\ziya\\AppData\\Roaming\\Python\\Python312\\site-packages\\ortools\\.libs\\abseil_dll.dll...\n",
      "load C:\\Users\\ziya\\AppData\\Roaming\\Python\\Python312\\site-packages\\ortools\\.libs\\utf8_validity.dll...\n",
      "load C:\\Users\\ziya\\AppData\\Roaming\\Python\\Python312\\site-packages\\ortools\\.libs\\re2.dll...\n",
      "load C:\\Users\\ziya\\AppData\\Roaming\\Python\\Python312\\site-packages\\ortools\\.libs\\libprotobuf.dll...\n",
      "load C:\\Users\\ziya\\AppData\\Roaming\\Python\\Python312\\site-packages\\ortools\\.libs\\highs.dll...\n",
      "load C:\\Users\\ziya\\AppData\\Roaming\\Python\\Python312\\site-packages\\ortools\\.libs\\ortools.dll...\n"
     ]
    }
   ],
   "source": [
    "from ortools.sat.python import cp_model"
   ]
  },
  {
   "cell_type": "code",
   "execution_count": 2,
   "id": "d1190ef6",
   "metadata": {},
   "outputs": [],
   "source": [
    "freq = []\n",
    "volume = []\n",
    "\n",
    "for i in range(3):\n",
    "    freq.append(int(input(f\"Enter frequency for prodct {i}: \")))\n",
    "    volume.append(int(input(f\"Enter volume for product {i}: \")))\n",
    "\n",
    "products = {\n",
    "    'p1': {'volume': volume[0], 'freq': freq[0]},\n",
    "    'p2': {'volume': volume[1], 'freq': freq[1]},\n",
    "    'p3': {'volume': volume[2], 'freq': freq[2]}\n",
    "}\n",
    "\n",
    "slots_dist = []\n",
    "for i in range(3):\n",
    "    slots_dist.append(int(input(f\"Enter distance for slot {i}: \")))\n",
    "\n",
    "\n",
    "sorted_products = sorted(products.items(), key=lambda x:x[1]['freq'], reverse=True)\n",
    "products_name = [p[0] for p in sorted_products]"
   ]
  },
  {
   "cell_type": "code",
   "execution_count": 3,
   "id": "393fc238",
   "metadata": {},
   "outputs": [],
   "source": [
    "model = cp_model.CpModel()\n",
    "#setting vars\n",
    "products_vars = {}\n",
    "for pname in products:\n",
    "    products_vars[pname] = model.new_int_var(0, 2, pname) \n",
    "    \"\"\"\n",
    "    {\n",
    "        'p1': <INT_VAR in P1 [0, 1, 2]>, \n",
    "        'p2': <INT_VAR in P2 [0, 1, 2]>,\n",
    "        'p3': <INT_VAR in P3 [0, 1, 2]>\n",
    "    }\n",
    "    \"\"\"\n",
    "    #p1, p2 and p3 will be assigned any of these slots(later in prog based on constarints)"
   ]
  },
  {
   "cell_type": "code",
   "execution_count": 4,
   "id": "6df69dbd",
   "metadata": {},
   "outputs": [],
   "source": [
    "#constraint 1: each product must be assigned to different slot = if space is 0, then slot 0 is assigned to p1, if space is 1, then slot 1 is assigned to p2 and so on\n",
    "model.add_all_different(products_vars.values())\n",
    "\n",
    "#constraint 2: each slot must be assigned to the slot based on freq\n",
    "for i in range(len(products_name)-1):\n",
    "    P1 = products_name[i]\n",
    "    P2 = products_name[i+1]\n",
    "    model.add(products_vars[P1] <= products_vars[P2]) #assigns BUT AT RUN TIME(so we dont knowits value rn) p1(higher freq product) a slot which is less than or equal to the slot assigned to p2(lower freq product)\n",
    "\n",
    "#minimizing walking distance for workers\n",
    "cost_terms = []\n",
    "for pname in products:\n",
    "    p_var = products_vars[pname]\n",
    "    #intermediate var for distance\n",
    "    distance = model.new_int_var(min(slots_dist), max(slots_dist), f'distance_{pname}')\n",
    "    cost = model.new_int_var(0, max(slots_dist)*products[pname]['freq'], f'cost_{pname}')\n",
    "    #distance = slots_dist[slot assigned to p1]\n",
    "\n",
    "    model.add_element(p_var, slots_dist, distance) #distance = slots_dist[slot assigned to p1]  \n",
    "\n",
    "    model.add_multiplication_equality(cost, [distance, products[pname]['freq']]) #cost = distance * freq of product\n",
    "    cost_terms.append(cost) #cost_terms = [cost of p1, cost of p2, cost of p3]\n",
    "\n",
    "model.minimize(sum(cost_terms)) #minimizing the sum of all costs (get the smallest cost possible)"
   ]
  },
  {
   "cell_type": "code",
   "execution_count": 5,
   "id": "fff8db3e",
   "metadata": {},
   "outputs": [
    {
     "name": "stdout",
     "output_type": "stream",
     "text": [
      "Assignment with Frequency-Proximity Constraint:\n",
      "p1 → Slot 2 (Distance = 2)\n",
      "p2 → Slot 3 (Distance = 3)\n",
      "p3 → Slot 1 (Distance = 1)\n",
      "Total Weighted Walking Distance: 59.0\n"
     ]
    }
   ],
   "source": [
    "solver = cp_model.CpSolver()\n",
    "status = solver.Solve(model)\n",
    "\n",
    "if status in (cp_model.OPTIMAL, cp_model.FEASIBLE):\n",
    "    print(\"Assignment with Frequency-Proximity Constraint:\")\n",
    "    for p in products:\n",
    "        assigned_slot = solver.Value(products_vars[p])\n",
    "        print(f\"{p} → Slot {assigned_slot + 1} (Distance = {slots_dist[assigned_slot]})\")\n",
    "    print(f\"Total Weighted Walking Distance: {solver.ObjectiveValue()}\")\n",
    "else:\n",
    "    print(\"No feasible solution found.\")"
   ]
  },
  {
   "cell_type": "code",
   "execution_count": 6,
   "id": "f4623fe1",
   "metadata": {},
   "outputs": [
    {
     "name": "stderr",
     "output_type": "stream",
     "text": [
      "C:\\Users\\ziya\\AppData\\Local\\Temp\\ipykernel_11300\\466235463.py:13: UserWarning: Setting the 'color' property will override the edgecolor or facecolor properties.\n",
      "  dispatch_rect = plt.Rectangle((-1, 0), 1, 1, fill=True, color=\"#ffdddd\", edgecolor='black')\n",
      "C:\\Users\\ziya\\AppData\\Local\\Temp\\ipykernel_11300\\466235463.py:20: UserWarning: Setting the 'color' property will override the edgecolor or facecolor properties.\n",
      "  rect = plt.Rectangle((x, 0), 1, 1, fill=True, color=\"#cfe2f3\", edgecolor='black')\n"
     ]
    },
    {
     "data": {
      "image/png": "[encoded data removed]",
      "text/plain": [
       "<Figure size 1200x300 with 1 Axes>"
      ]
     },
     "metadata": {},
     "output_type": "display_data"
    }
   ],
   "source": [
    "import matplotlib.pyplot as plt\n",
    "\n",
    "def draw_slot_map(products, slots, product_assignment):\n",
    "    # Create reverse map for slot → product\n",
    "    slot_to_product = {v: k for k, v in product_assignment.items()}\n",
    "\n",
    "    fig, ax = plt.subplots(figsize=(12, 3))\n",
    "    ax.set_xlim(-1, len(slots))\n",
    "    ax.set_ylim(0, 1)\n",
    "    ax.axis('off')\n",
    "\n",
    "    # Draw Dispatch Area\n",
    "    dispatch_rect = plt.Rectangle((-1, 0), 1, 1, fill=True, color=\"#ffdddd\", edgecolor='black')\n",
    "    ax.add_patch(dispatch_rect)\n",
    "    ax.text(-0.5, 0.5, \"Dispatch\\nArea\", ha='center', va='center', fontsize=10, weight='bold')\n",
    "\n",
    "    # Draw Slots\n",
    "    for slot in range(len(slots)):\n",
    "        x = slot\n",
    "        rect = plt.Rectangle((x, 0), 1, 1, fill=True, color=\"#cfe2f3\", edgecolor='black')\n",
    "        ax.add_patch(rect)\n",
    "\n",
    "        product = slot_to_product.get(slot, \"Empty\")\n",
    "        freq = products[product]['freq'] if product in products else '-'\n",
    "        dist = slots[slot]\n",
    "\n",
    "        ax.text(x + 0.5, 0.7, f\"Slot {slot+1}\", ha='center', va='center', fontsize=10, weight='bold')\n",
    "        ax.text(x + 0.5, 0.5, f\"{product.upper()}\", ha='center', va='center', fontsize=12)\n",
    "        ax.text(x + 0.5, 0.3, f\"Freq = {freq}\", ha='center', va='center', fontsize=9)\n",
    "        ax.text(x + 0.5, 0.15, f\"Dist = {dist}\", ha='center', va='center', fontsize=9)\n",
    "\n",
    "    plt.title(\"Product to Slot Assignment with Dispatch Area\", fontsize=14)\n",
    "    plt.tight_layout()\n",
    "    plt.show()\n",
    "\n",
    "\n",
    "# === DYNAMIC INPUT (simulate what main code does) ===\n",
    "# Read from user\n",
    "freq = []\n",
    "volume = []\n",
    "for i in range(3):\n",
    "    freq.append(int(input(f\"Enter frequency for product {i+1}: \")))\n",
    "    volume.append(int(input(f\"Enter volume for product {i+1}: \")))\n",
    "\n",
    "products = {\n",
    "    'p1': {'volume': volume[0], 'freq': freq[0]},\n",
    "    'p2': {'volume': volume[1], 'freq': freq[1]},\n",
    "    'p3': {'volume': volume[2], 'freq': freq[2]}\n",
    "}\n",
    "\n",
    "slots_dist = []\n",
    "for i in range(3):\n",
    "    slots_dist.append(int(input(f\"Enter distance for slot {i+1}: \")))\n",
    "\n",
    "slots = {\n",
    "    0: slots_dist[0],\n",
    "    1: slots_dist[1],\n",
    "    2: slots_dist[2]\n",
    "}\n",
    "\n",
    "\n",
    "product_assignment = {\n",
    "    'p1': 1,\n",
    "    'p2': 2,\n",
    "    'p3': 0 \n",
    "}\n",
    "for pname in products:\n",
    "    slot = int(input(f\"Enter assigned slot (0,1,2) for {pname}: \"))\n",
    "    product_assignment[pname] = slot\n",
    "\n",
    "# === DRAW ===\n",
    "draw_slot_map(products, slots, product_assignment)\n"
   ]
  }
 ],
 "metadata": {
  "kernelspec": {
   "display_name": "Python 3",
   "language": "python",
   "name": "python3"
  },
  "language_info": {
   "codemirror_mode": {
    "name": "ipython",
    "version": 3
   },
   "file_extension": ".py",
   "mimetype": "text/x-python",
   "name": "python",
   "nbconvert_exporter": "python",
   "pygments_lexer": "ipython3",
   "version": "3.12.4"
  }
 },
 "nbformat": 4,
 "nbformat_minor": 5
}
