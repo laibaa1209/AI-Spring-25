{
 "cells": [
  {
   "cell_type": "code",
   "execution_count": 22,
   "id": "90040cf5",
   "metadata": {},
   "outputs": [],
   "source": [
    "from ortools.sat.python import cp_model\n",
    "import matplotlib.pyplot as plt\n",
    "import matplotlib.patches as mpatches"
   ]
  },
  {
   "cell_type": "code",
   "execution_count": 23,
   "id": "aa639d05",
   "metadata": {},
   "outputs": [],
   "source": [
    "job_durations = [4, 3, 2, 5]\n",
    "num_jobs = len(job_durations)\n",
    "num_workers = 3\n",
    "workers_times = [6, 8, 5]"
   ]
  },
  {
   "cell_type": "code",
   "execution_count": 24,
   "id": "000fa51d",
   "metadata": {},
   "outputs": [],
   "source": [
    "# Create the model\n",
    "model = cp_model.CpModel()\n",
    "\n",
    "# Create variables\n",
    "jobs = [model.new_int_var(0, 2, f'j{i}') for i in range(num_jobs)] #j0, j1, j2, j3"
   ]
  },
  {
   "cell_type": "code",
   "execution_count": 25,
   "id": "903e64b4",
   "metadata": {},
   "outputs": [],
   "source": [
    "# constraint 1: j1 and j0 cannot be assigned to same worker\n",
    "model.add(jobs[0] != jobs[1]) #j1 != j2\n",
    "\n",
    "# constraint 2 & 3: 2 jobs per worker within their time limit\n",
    "for w in range(num_workers):\n",
    "    job_count = [model.new_bool_var(f'j{i}_is_W{w}') for i in range(num_jobs)] #list of jobs status for each worker(ether job is assigned to worker or not)\n",
    "    for j in range(num_jobs):\n",
    "        model.add(jobs[j] == w).only_enforce_if(job_count[j])\n",
    "        model.add(jobs[j] != w).only_enforce_if(job_count[j].Not())\n",
    "\n",
    "    model.add(sum(job_count) <= 2) #each worker can only do 2 jobs\n",
    "\n",
    "    model.add(sum(job_durations[j] * job_count[j] for j in range(num_jobs)) <= workers_times[w]) #each worker can only do jobs within their time limit\n",
    "\n",
    "# minimize any of the workers time\n",
    "worker_load = []\n",
    "for w in range(num_workers):\n",
    "    load = model.new_int_var(0, sum(job_durations), f'load_W{w}')\n",
    "    selected = []\n",
    "    for i in range(len(job_count)):\n",
    "        is_assigned = model.new_bool_var(f'j{i}_is_W{w}')\n",
    "        model.add(jobs[i] == w).only_enforce_if(is_assigned)\n",
    "        model.add(jobs[i] != w).only_enforce_if(is_assigned.Not())\n",
    "        selected.append(is_assigned * job_durations[i])\n",
    "    model.add(load == sum(selected))\n",
    "    worker_load.append(load)\n",
    "\n",
    "max_load = model.new_int_var(0, sum(job_durations), 'max_load')\n",
    "model.add_max_equality(max_load, worker_load) #max load of all workers\n",
    "model.Minimize(max_load) #minimize the max load of all workers"
   ]
  },
  {
   "cell_type": "code",
   "execution_count": 26,
   "id": "a15c1257",
   "metadata": {},
   "outputs": [],
   "source": [
    "#but it will not give all solutions becasue we are maximizing the load of workers.\n",
    "# Custom solution printer to print all solutions\n",
    "class JobAssignmentPrinter(cp_model.CpSolverSolutionCallback):\n",
    "    def __init__(self, jobs, max_load):\n",
    "        cp_model.CpSolverSolutionCallback.__init__(self)\n",
    "        self._jobs = jobs\n",
    "        self._max_load = max_load\n",
    "        self._solution_count = 0\n",
    "\n",
    "    def on_solution_callback(self):\n",
    "        self._solution_count += 1\n",
    "\n",
    "        # Collect job assignments\n",
    "        assignments = [self.Value(self._jobs[j]) for j in range(len(self._jobs))]\n",
    "\n",
    "        print(f'Solution {self._solution_count}:')\n",
    "        for j in range(len(self._jobs)):\n",
    "            print(f'  Job J{j + 1} assigned to Worker W{self.Value(self._jobs[j]) + 1}')\n",
    "        print(f'  Max load: {self.Value(self._max_load)}\\n')\n",
    "\n",
    "        plot_solution(assignments, job_durations, self._solution_count)\n",
    "\n",
    "    def solution_count(self):\n",
    "        return self._solution_count"
   ]
  },
  {
   "cell_type": "code",
   "execution_count": 27,
   "id": "0a64057d",
   "metadata": {},
   "outputs": [],
   "source": [
    "def plot_solution(assignments, durations, solution_num):\n",
    "    fig, ax = plt.subplots()\n",
    "    colors = ['skyblue', 'lightgreen', 'salmon', 'plum']\n",
    "    job_labels = []\n",
    "\n",
    "    for w in range(num_workers):\n",
    "        current_time = 0\n",
    "        for j, assigned_worker in enumerate(assignments):\n",
    "            if assigned_worker == w:\n",
    "                ax.broken_barh([(current_time, durations[j])], (w * 10, 9),\n",
    "                               facecolors=colors[j % len(colors)])\n",
    "                ax.text(current_time + durations[j]/2, w * 10 + 4.5, f'J{j+1}',\n",
    "                        va='center', ha='center', color='black')\n",
    "                current_time += durations[j]\n",
    "    ax.set_ylim(0, num_workers * 10)\n",
    "    ax.set_xlim(0, max(sum(job_durations), max(workers_times)) + 2)\n",
    "    ax.set_xlabel('Time')\n",
    "    ax.set_yticks([i * 10 + 4.5 for i in range(num_workers)])\n",
    "    ax.set_yticklabels([f'Worker W{i+1}' for i in range(num_workers)])\n",
    "    ax.set_title(f'Solution {solution_num}')\n",
    "    plt.tight_layout()\n",
    "    plt.show()"
   ]
  },
  {
   "cell_type": "code",
   "execution_count": 28,
   "id": "aacc521e",
   "metadata": {},
   "outputs": [
    {
     "name": "stdout",
     "output_type": "stream",
     "text": [
      "Solution 1:\n",
      "  Job J1 assigned to Worker W2\n",
      "  Job J2 assigned to Worker W3\n",
      "  Job J3 assigned to Worker W3\n",
      "  Job J4 assigned to Worker W1\n",
      "  Max load: 5\n",
      "\n"
     ]
    },
    {
     "data": {
      "image/png": "[encoded data removed]",
      "text/plain": [
       "<Figure size 640x480 with 1 Axes>"
      ]
     },
     "metadata": {},
     "output_type": "display_data"
    },
    {
     "name": "stdout",
     "output_type": "stream",
     "text": [
      "Total solutions found: 1\n"
     ]
    }
   ],
   "source": [
    "# Solve and enumerate all solutions\n",
    "solver = cp_model.CpSolver()\n",
    "solution_printer = JobAssignmentPrinter(jobs, max_load)\n",
    "solver.parameters.enumerate_all_solutions = True\n",
    "status = solver.Solve(model, solution_printer)\n",
    "\n",
    "print(f'Total solutions found: {solution_printer.solution_count()}')"
   ]
  }
 ],
 "metadata": {
  "kernelspec": {
   "display_name": "Python 3",
   "language": "python",
   "name": "python3"
  },
  "language_info": {
   "codemirror_mode": {
    "name": "ipython",
    "version": 3
   },
   "file_extension": ".py",
   "mimetype": "text/x-python",
   "name": "python",
   "nbconvert_exporter": "python",
   "pygments_lexer": "ipython3",
   "version": "3.12.4"
  }
 },
 "nbformat": 4,
 "nbformat_minor": 5
}
